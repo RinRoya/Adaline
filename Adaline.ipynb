{
 "cells": [
  {
   "cell_type": "markdown",
   "metadata": {},
   "source": [
    "# Adaline"
   ]
  },
  {
   "cell_type": "markdown",
   "metadata": {},
   "source": [
    "## Algoritma\n",
    "---\n",
    "\n",
    "_**Step 0**_ Inisialisasi bobot dan bias <br>\n",
    "$\\hspace{1.1cm}$ Set *learning rate* $\\alpha$ <br>\n",
    "_**Step 1**_ Ketika kondisi berhenti bernilai *false*, kerjakan _Step 2-6_ <br>\n",
    "$\\hspace{1.1cm}$_**Step 2**_ Untuk setiap pasangan pembelajaran bipolar $s:t$, kerjakan _Step 3-5_ <br>\n",
    "$\\hspace{2.3cm}$_**Step 3**_ Set aktivasi unit input <br>\n",
    "$\\hspace{3.5cm}$ $x_i=s_i$ <br>\n",
    "$\\hspace{2.3cm}$_**Step 4**_ Hitung respon untuk unit output <br>\n",
    "$\\hspace{3.5cm}$ $y_{in}=b+\\sum\\limits_{i}x_iw_i$ <br>\n",
    "$\\hspace{2.3cm}$_**Step 5**_ Perbarui bobot dan bias <br>\n",
    "$\\hspace{3.5cm}$ $w_i(baru)=w_i(lama)+\\alpha (t-y_{in})x_i$, <br>\n",
    "$\\hspace{3.5cm}$ $b(baru)=b(lama)+\\alpha (t-y_{in})$ <br>\n",
    "$\\hspace{1.1cm}$_**Step 6**_ Tes kondisi berhenti <br>\n",
    "$\\hspace{2.3cm}$ Jika perubahan bobot terbesar pada _Step 2_ lebih kecil dari toleransi, <br>\n",
    "$\\hspace{2.3cm}$ maka berhenti\n",
    "\n",
    "---"
   ]
  },
  {
   "cell_type": "markdown",
   "metadata": {},
   "source": [
    "## Impementasi Algoritma"
   ]
  },
  {
   "cell_type": "markdown",
   "metadata": {},
   "source": [
    "##### 1. Mengimport library"
   ]
  },
  {
   "cell_type": "code",
   "execution_count": 1,
   "metadata": {},
   "outputs": [],
   "source": [
    "import numpy as np\n",
    "import matplotlib.pyplot as plt\n",
    "import seaborn as sns"
   ]
  },
  {
   "cell_type": "markdown",
   "metadata": {},
   "source": [
    "##### 2. Algoritma Adaline"
   ]
  },
  {
   "cell_type": "code",
   "execution_count": 2,
   "metadata": {},
   "outputs": [],
   "source": [
    "def Adaline(s,t,max_epoch,learning_rate=0.1,tol=0.005):\n",
    "    # Step 0\n",
    "    w = np.random.uniform(0,2,s.shape[1])\n",
    "    b = 0\n",
    "    epoch = 1\n",
    "    stop = 0\n",
    "    \n",
    "    # Step 1\n",
    "    while epoch < max_epoch:\n",
    "        # Step 2\n",
    "        for i in range(s.shape[0]):\n",
    "            # Step 3\n",
    "            x = s[i,:]\n",
    "            \n",
    "            # Step 4\n",
    "            y_in = b + sum(x*w)\n",
    "\n",
    "            temp_w = np.copy(w)\n",
    "            temp_b = np.copy(b)\n",
    "            \n",
    "            # Step 5\n",
    "            w += learning_rate*(t[i]-y_in)*x\n",
    "            b += learning_rate*(t[i]-y_in)\n",
    "                \n",
    "            dw = w - temp_w\n",
    "            db = b - temp_b\n",
    "            \n",
    "            temp = np.append(dw,[stop,db])\n",
    "            stop = max(temp)\n",
    "            \n",
    "        # Step 6\n",
    "        if stop < tol:\n",
    "            break\n",
    "            \n",
    "        epoch += 1\n",
    "    return w,b"
   ]
  },
  {
   "cell_type": "markdown",
   "metadata": {},
   "source": [
    "##### 3. Testing algoritma Adaline"
   ]
  },
  {
   "cell_type": "code",
   "execution_count": 3,
   "metadata": {},
   "outputs": [],
   "source": [
    "def PredictAdaline(x_input,weight,bias):\n",
    "    y_in = bias + sum(x_input*weight)\n",
    "    \n",
    "    if y_in >= 0:\n",
    "        y = 1\n",
    "    else:\n",
    "        y = -1\n",
    "        \n",
    "    return y"
   ]
  },
  {
   "cell_type": "markdown",
   "metadata": {},
   "source": [
    "##### 4. Ploting garis batas keputusan"
   ]
  },
  {
   "cell_type": "code",
   "execution_count": 4,
   "metadata": {},
   "outputs": [],
   "source": [
    "def PlotAdaline(x_unit,target,weight,bias,title=\"\"):\n",
    "    # Plot titik\n",
    "    color = {-1:\"r\",1:\"b\"}\n",
    "    sns.scatterplot(x_unit[:,0],x_unit[:,1],hue=target,s=200,legend=\"full\",palette=color)\n",
    "    \n",
    "    # Plot sumbu-x dan sumbu-y\n",
    "    plt.hlines(0,-2,2)\n",
    "    plt.vlines(0,-2,2)\n",
    "    \n",
    "    # Plot persamaan garis\n",
    "    x = np.array([-2,2])\n",
    "    m = -weight[0]/weight[1]\n",
    "    n = -bias/weight[1]\n",
    "    y = m*x + n\n",
    "    plt.plot(x,y,\"g-\")\n",
    "    \n",
    "    plt.title(\"Adaline \"+title)\n",
    "    plt.legend(title=\"Target\")\n",
    "    plt.xlim([-2,2])\n",
    "    plt.ylim([-2,2])\n",
    "    plt.xticks([])\n",
    "    plt.yticks([])"
   ]
  },
  {
   "cell_type": "markdown",
   "metadata": {},
   "source": [
    "## Contoh Soal"
   ]
  },
  {
   "cell_type": "markdown",
   "metadata": {},
   "source": [
    "### Contoh 1: Metode Adaline untuk input bipolar dan target bipolar menggunakan fungsi logika AND NOT"
   ]
  },
  {
   "cell_type": "markdown",
   "metadata": {},
   "source": [
    "Untuk input bipolar dan target bipolar menggunakan fungsi logika AND NOT menghasilkan tabel berikut ini \n",
    "\n",
    "$$\\begin{align*}\n",
    "\\text{Input}&&\\text{Target}\\\\\n",
    "1\\hspace{0.5cm}1&&\\text{-}1\\hspace{0.38cm}\\\\\n",
    "1\\hspace{0.35cm}\\text{-}1&&1\\hspace{0.38cm}\\\\\n",
    "\\text{-}1\\hspace{0.5cm}1&&\\text{-}1\\hspace{0.38cm}\\\\\n",
    "\\text{-}1\\hspace{0.35cm}\\text{-}1&&\\text{-}1\\hspace{0.38cm}\\\\\n",
    "\\end{align*}\n",
    "$$\n",
    "\n",
    "Diberikan _learning rate_ ($\\alpha=0.2$), toleransi = 0.05, dan maksimum _epoch_ adalah 100."
   ]
  },
  {
   "cell_type": "markdown",
   "metadata": {},
   "source": [
    "##### Implementasi algoritma Adaline"
   ]
  },
  {
   "cell_type": "code",
   "execution_count": 5,
   "metadata": {},
   "outputs": [],
   "source": [
    "# Input\n",
    "x1 = np.array([[1,1],\n",
    "                [1,-1],\n",
    "                [-1,1],\n",
    "                [-1,-1]])\n",
    "# Target\n",
    "t1 = np.array([-1,1,-1,-1])\n",
    "\n",
    "# Perhitungan bobot dan bias dengan metode adaline\n",
    "w1,b1 = Adaline(x1,t1,100,learning_rate=0.2,tol=0.05)\n",
    "\n",
    "# Prediksi target\n",
    "pred1 = [PredictAdaline(x,w1,b1) for x in x1]"
   ]
  },
  {
   "cell_type": "markdown",
   "metadata": {},
   "source": [
    "##### Analisis hasil prediksi"
   ]
  },
  {
   "cell_type": "code",
   "execution_count": 6,
   "metadata": {},
   "outputs": [
    {
     "name": "stdout",
     "output_type": "stream",
     "text": [
      "Input [1 1] \tmemiliki target: -1 \thasil prediksi: -1\n",
      "Input [ 1 -1] \tmemiliki target: 1 \thasil prediksi: 1\n",
      "Input [-1  1] \tmemiliki target: -1 \thasil prediksi: -1\n",
      "Input [-1 -1] \tmemiliki target: -1 \thasil prediksi: -1\n"
     ]
    }
   ],
   "source": [
    "for i in range(len(pred1)):\n",
    "    print(\"Input\",x1[i,:],\"\\tmemiliki target:\",t1[i],\"\\thasil prediksi:\",pred1[i])"
   ]
  },
  {
   "cell_type": "markdown",
   "metadata": {},
   "source": [
    "##### Visualisasi garis batas keputusan untuk input"
   ]
  },
  {
   "cell_type": "code",
   "execution_count": 7,
   "metadata": {},
   "outputs": [
    {
     "data": {
      "image/png": "[encoded data removed]",
      "text/plain": [
       "<Figure size 432x288 with 1 Axes>"
      ]
     },
     "metadata": {},
     "output_type": "display_data"
    }
   ],
   "source": [
    "PlotAdaline(x1,t1,w1,b1,title=\"AND NOT\")"
   ]
  },
  {
   "cell_type": "markdown",
   "metadata": {},
   "source": [
    "### Contoh 2: Metode Adaline untuk input biner dan target bipolar menggunakan fungsi logika AND"
   ]
  },
  {
   "cell_type": "markdown",
   "metadata": {},
   "source": [
    "Untuk input biner dan target bipolar menggunakan fungsi logika AND menghasilkan tabel berikut ini \n",
    "\n",
    "$$\\begin{align*}\n",
    "\\text{Input}&&\\text{Target}\\\\\n",
    "1\\hspace{0.5cm}1&&1\\hspace{0.38cm}\\\\\n",
    "1\\hspace{0.5cm}0&&\\text{-}1\\hspace{0.38cm}\\\\\n",
    "0\\hspace{0.5cm}1&&\\text{-}1\\hspace{0.38cm}\\\\\n",
    "0\\hspace{0.5cm}0&&\\text{-}1\\hspace{0.38cm}\\\\\n",
    "\\end{align*}\n",
    "$$\n",
    "\n",
    "Diberikan _learning rate_ ($\\alpha=0.3$), toleransi = 0.005, dan maksimum _epoch_ adalah 1000."
   ]
  },
  {
   "cell_type": "markdown",
   "metadata": {},
   "source": [
    "##### Implementasi algoritma Adaline"
   ]
  },
  {
   "cell_type": "code",
   "execution_count": 8,
   "metadata": {},
   "outputs": [],
   "source": [
    "# Input\n",
    "x2 = np.array([[1,1],\n",
    "                [1,0],\n",
    "                [0,1],\n",
    "                [0,0]])\n",
    "# Target\n",
    "t2 = np.array([1,-1,-1,-1])\n",
    "\n",
    "# Perhitungan bobot dan bias dengan metode adaline\n",
    "w2,b2 = Adaline(x2,t2,1000,learning_rate=0.3,tol=0.005)\n",
    "\n",
    "# Prediksi target\n",
    "pred2 = [PredictAdaline(x,w2,b2) for x in x2]"
   ]
  },
  {
   "cell_type": "markdown",
   "metadata": {},
   "source": [
    "##### Analisis hasil prediksi"
   ]
  },
  {
   "cell_type": "code",
   "execution_count": 9,
   "metadata": {},
   "outputs": [
    {
     "name": "stdout",
     "output_type": "stream",
     "text": [
      "Input [1 1] \tmemiliki target: 1 \thasil prediksi: 1\n",
      "Input [1 0] \tmemiliki target: -1 \thasil prediksi: -1\n",
      "Input [0 1] \tmemiliki target: -1 \thasil prediksi: -1\n",
      "Input [0 0] \tmemiliki target: -1 \thasil prediksi: -1\n"
     ]
    }
   ],
   "source": [
    "for i in range(len(pred2)):\n",
    "    print(\"Input\",x2[i,:],\"\\tmemiliki target:\",t2[i],\"\\thasil prediksi:\",pred2[i])"
   ]
  },
  {
   "cell_type": "markdown",
   "metadata": {},
   "source": [
    "##### Visualisasi garis batas keputusan untuk input"
   ]
  },
  {
   "cell_type": "code",
   "execution_count": 10,
   "metadata": {},
   "outputs": [
    {
     "data": {
      "image/png": "[encoded data removed]",
      "text/plain": [
       "<Figure size 432x288 with 1 Axes>"
      ]
     },
     "metadata": {},
     "output_type": "display_data"
    }
   ],
   "source": [
    "PlotAdaline(x2,t2,w2,b2,title=\"AND\")"
   ]
  },
  {
   "cell_type": "markdown",
   "metadata": {},
   "source": [
    "### Catatan:\n",
    "Metode Adaline tidak bisa digunakan untuk logika XOR dan XNOR"
   ]
  },
  {
   "cell_type": "markdown",
   "metadata": {},
   "source": [
    "## Daftar Pustaka"
   ]
  },
  {
   "cell_type": "markdown",
   "metadata": {},
   "source": [
    "[1] $\\hspace{0.5cm}$ L. Fausett, _Fundamentals of Neural Networks_. Prentice Hall, 1994"
   ]
  }
 ],
 "metadata": {
  "kernelspec": {
   "display_name": "Python 3",
   "language": "python",
   "name": "python3"
  },
  "language_info": {
   "codemirror_mode": {
    "name": "ipython",
    "version": 3
   },
   "file_extension": ".py",
   "mimetype": "text/x-python",
   "name": "python",
   "nbconvert_exporter": "python",
   "pygments_lexer": "ipython3",
   "version": "3.7.0"
  }
 },
 "nbformat": 4,
 "nbformat_minor": 2
}
